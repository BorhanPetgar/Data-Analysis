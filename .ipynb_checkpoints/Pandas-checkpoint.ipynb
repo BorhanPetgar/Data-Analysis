{
 "cells": [
  {
   "cell_type": "code",
   "execution_count": 1,
   "id": "23b12d17",
   "metadata": {},
   "outputs": [],
   "source": [
    "import pandas as pd\n",
    "import numpy as np\n",
    "import matplotlib.pyplot as plt"
   ]
  },
  {
   "cell_type": "code",
   "execution_count": 4,
   "id": "849ef352",
   "metadata": {
    "scrolled": false
   },
   "outputs": [
    {
     "name": "stdout",
     "output_type": "stream",
     "text": [
      "i      a\n",
      "ii     b\n",
      "iii    c\n",
      "dtype: object\n",
      "a\n"
     ]
    }
   ],
   "source": [
    "# series\n",
    "a = ['a', 'b', 'c']\n",
    "myvar = pd.Series(a, index=['i', 'ii', 'iii'])\n",
    "print(myvar) # column\n",
    "print(myvar[0]) # first element in column => a"
   ]
  },
  {
   "cell_type": "code",
   "execution_count": 9,
   "id": "fc45e055",
   "metadata": {},
   "outputs": [
    {
     "name": "stdout",
     "output_type": "stream",
     "text": [
      "Chandler    4.0\n",
      "Ross        4.0\n",
      "Joey        2.5\n",
      "Phoebe      2.0\n",
      "dtype: float64\n"
     ]
    }
   ],
   "source": [
    "dict = {'Chandler': 4, 'Ross': 4, 'Joey': 2.5, 'Phoebe':2}\n",
    "table = pd.Series(dict)\n",
    "print(table)"
   ]
  },
  {
   "cell_type": "code",
   "execution_count": 10,
   "id": "0f69d81f",
   "metadata": {},
   "outputs": [
    {
     "name": "stdout",
     "output_type": "stream",
     "text": [
      "      Name  Grade\n",
      "0  Chander      4\n",
      "1     Ross      3\n",
      "2     Joey      2\n"
     ]
    }
   ],
   "source": [
    "# Data Frame\n",
    "data = {'Name': ['Chander', 'Ross', 'Joey'], \n",
    "        'Grade': [4,3,2]}\n",
    "table = pd.DataFrame(data)\n",
    "print(table)"
   ]
  },
  {
   "cell_type": "code",
   "execution_count": 31,
   "id": "f0b1c0e7",
   "metadata": {},
   "outputs": [
    {
     "name": "stdout",
     "output_type": "stream",
     "text": [
      "            Weather\n",
      "day 1        Stormy\n",
      "day 2       Showery\n",
      "day 3   Sunny/Clear\n",
      "day 4      Overcast\n",
      "day 5        Cloudy\n",
      "day 6       Drizzle\n",
      "day 7      Overcast\n",
      "day 8        Stormy\n",
      "day 9        Cloudy\n",
      "day 10     Overcast\n",
      "day 11      Drizzle\n",
      "day 12     Overcast\n",
      "day 13       Stormy\n",
      "day 14  Sunny/Clear\n",
      "day 15       Cloudy\n",
      "day 16      Drizzle\n",
      "day 17     Overcast\n",
      "day 18      Showery\n",
      "day 19        Rainy\n",
      "day 20     Overcast\n",
      "day 21       Cloudy\n"
     ]
    }
   ],
   "source": [
    "weather_str = 'Sunny/Clear.Showery.Cloudy.Overcast.Rainy.Drizzle.Snowy.Stormy'\n",
    "weather_list = weather_str.split('.')\n",
    "weather = np.random.choice(weather_list, np.random.randint(10,30))\n",
    "\n",
    "def indexes(num):\n",
    "    days = list()\n",
    "    for i in range(1, num + 1):\n",
    "        days.append('day ' + str(i))\n",
    "    return days\n",
    "\n",
    "df = pd.DataFrame(weather, index=indexes(weather.size), columns=['Weather'])\n",
    "print(df)\n",
    "\n",
    "\n",
    "\n",
    "\n"
   ]
  }
 ],
 "metadata": {
  "kernelspec": {
   "display_name": "Python 3 (ipykernel)",
   "language": "python",
   "name": "python3"
  },
  "language_info": {
   "codemirror_mode": {
    "name": "ipython",
    "version": 3
   },
   "file_extension": ".py",
   "mimetype": "text/x-python",
   "name": "python",
   "nbconvert_exporter": "python",
   "pygments_lexer": "ipython3",
   "version": "3.9.12"
  }
 },
 "nbformat": 4,
 "nbformat_minor": 5
}
