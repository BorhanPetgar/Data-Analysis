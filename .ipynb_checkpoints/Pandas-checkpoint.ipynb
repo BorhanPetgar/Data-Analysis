{
 "cells": [
  {
   "cell_type": "code",
   "execution_count": 44,
   "id": "23b12d17",
   "metadata": {},
   "outputs": [],
   "source": [
    "import pandas as pd\n",
    "import numpy as np\n",
    "import matplotlib.pyplot as plt"
   ]
  },
  {
   "cell_type": "code",
   "execution_count": 45,
   "id": "849ef352",
   "metadata": {
    "scrolled": false
   },
   "outputs": [
    {
     "name": "stdout",
     "output_type": "stream",
     "text": [
      "i      a\n",
      "ii     b\n",
      "iii    c\n",
      "dtype: object\n",
      "a\n"
     ]
    }
   ],
   "source": [
    "# series\n",
    "a = ['a', 'b', 'c']\n",
    "myvar = pd.Series(a, index=['i', 'ii', 'iii'])\n",
    "print(myvar) # column\n",
    "print(myvar[0]) # first element in column => a"
   ]
  },
  {
   "cell_type": "code",
   "execution_count": 46,
   "id": "fc45e055",
   "metadata": {},
   "outputs": [
    {
     "name": "stdout",
     "output_type": "stream",
     "text": [
      "Chandler    4.0\n",
      "Ross        4.0\n",
      "Joey        2.5\n",
      "Phoebe      2.0\n",
      "dtype: float64\n"
     ]
    }
   ],
   "source": [
    "dict = {'Chandler': 4, 'Ross': 4, 'Joey': 2.5, 'Phoebe':2}\n",
    "table = pd.Series(dict)\n",
    "print(table)"
   ]
  },
  {
   "cell_type": "code",
   "execution_count": 47,
   "id": "0f69d81f",
   "metadata": {},
   "outputs": [
    {
     "name": "stdout",
     "output_type": "stream",
     "text": [
      "      Name  Grade\n",
      "0  Chander      4\n",
      "1     Ross      3\n",
      "2     Joey      2\n"
     ]
    }
   ],
   "source": [
    "# Data Frame\n",
    "data = {'Name': ['Chander', 'Ross', 'Joey'], \n",
    "        'Grade': [4,3,2]}\n",
    "table = pd.DataFrame(data)\n",
    "print(table)"
   ]
  },
  {
   "cell_type": "code",
   "execution_count": 48,
   "id": "f0b1c0e7",
   "metadata": {
    "scrolled": true
   },
   "outputs": [
    {
     "name": "stdout",
     "output_type": "stream",
     "text": [
      "            Weather\n",
      "day 1         Snowy\n",
      "day 2      Overcast\n",
      "day 3         Snowy\n",
      "day 4         Rainy\n",
      "day 5   Sunny/Clear\n",
      "day 6   Sunny/Clear\n",
      "day 7        Stormy\n",
      "day 8        Cloudy\n",
      "day 9        Cloudy\n",
      "day 10  Sunny/Clear\n",
      "day 11        Snowy\n",
      "day 12      Showery\n",
      "day 13     Overcast\n",
      "day 14      Drizzle\n"
     ]
    }
   ],
   "source": [
    "weather_str = 'Sunny/Clear.Showery.Cloudy.Overcast.Rainy.Drizzle.Snowy.Stormy'\n",
    "weather_list = weather_str.split('.')\n",
    "weather = np.random.choice(weather_list, np.random.randint(10,20))\n",
    "\n",
    "def indexes(num):\n",
    "    days = list()\n",
    "    for i in range(1, num + 1):\n",
    "        days.append('day ' + str(i))\n",
    "    return days\n",
    "\n",
    "df = pd.DataFrame(weather, index=indexes(weather.size), columns=['Weather'])\n",
    "print(df)\n"
   ]
  },
  {
   "cell_type": "code",
   "execution_count": 49,
   "id": "fc40c25c",
   "metadata": {},
   "outputs": [
    {
     "name": "stdout",
     "output_type": "stream",
     "text": [
      "        name  score  attempts qualify\n",
      "a  Anastasia   12.5         1     yes\n",
      "b       Dima    9.0         3      no\n",
      "c  Katherine   16.5         2     yes\n"
     ]
    }
   ],
   "source": [
    "# exercise\n",
    "\n",
    "exam_data = {'name': ['Anastasia', 'Dima', 'Katherine', 'James', 'Emily', 'Michael', 'Matthew', 'Laura', 'Kevin', 'Jonas'], \n",
    "             'score': [12.5, 9, 16.5, np.nan, 9, 20, 14.5, np.nan, 8, 19], \n",
    "             'attempts': [1, 3, 2, 3, 2, 3, 1, 1, 2, 1], \n",
    "             'qualify': ['yes', 'no', 'yes', 'no', 'no', 'yes', 'yes', 'no', 'no', 'yes']}\n",
    "\n",
    "df = pd.DataFrame(exam_data, index=['a', 'b', 'c', 'd', 'e', 'f', 'g', 'h', 'i', 'j'])\n",
    "print(df.iloc[0:3])"
   ]
  },
  {
   "cell_type": "markdown",
   "id": "e7bbe447",
   "metadata": {},
   "source": [
    "# Reading pokemon data csv file"
   ]
  },
  {
   "cell_type": "code",
   "execution_count": 50,
   "id": "a967af36",
   "metadata": {
    "scrolled": true
   },
   "outputs": [
    {
     "name": "stdout",
     "output_type": "stream",
     "text": [
      "   #                       Name Type 1  Type 2  HP  Attack  Defense  Sp. Atk  \\\n",
      "0  1                  Bulbasaur  Grass  Poison  45      49       49       65   \n",
      "1  2                    Ivysaur  Grass  Poison  60      62       63       80   \n",
      "2  3                   Venusaur  Grass  Poison  80      82       83      100   \n",
      "3  3      VenusaurMega Venusaur  Grass  Poison  80     100      123      122   \n",
      "4  4                 Charmander   Fire     NaN  39      52       43       60   \n",
      "5  5                 Charmeleon   Fire     NaN  58      64       58       80   \n",
      "6  6                  Charizard   Fire  Flying  78      84       78      109   \n",
      "7  6  CharizardMega Charizard X   Fire  Dragon  78     130      111      130   \n",
      "8  6  CharizardMega Charizard Y   Fire  Flying  78     104       78      159   \n",
      "9  7                   Squirtle  Water     NaN  44      48       65       50   \n",
      "\n",
      "   Sp. Def  Speed  Generation  Legendary  \n",
      "0       65     45           1      False  \n",
      "1       80     60           1      False  \n",
      "2      100     80           1      False  \n",
      "3      120     80           1      False  \n",
      "4       50     65           1      False  \n",
      "5       65     80           1      False  \n",
      "6       85    100           1      False  \n",
      "7       85    100           1      False  \n",
      "8      115    100           1      False  \n",
      "9       64     43           1      False  \n"
     ]
    }
   ],
   "source": [
    "# read csv files\n",
    "\n",
    "df = pd.read_csv('pokemon_data.csv')\n",
    "print(df.head(10)) # display first 10 rows\n",
    "# pd.set_option('display.max_rows', None)\n",
    "# pd.set_option('display.max_columns', None)"
   ]
  },
  {
   "cell_type": "code",
   "execution_count": 51,
   "id": "3108451f",
   "metadata": {
    "scrolled": true
   },
   "outputs": [
    {
     "name": "stdout",
     "output_type": "stream",
     "text": [
      "Index(['#', 'Name', 'Type 1', 'Type 2', 'HP', 'Attack', 'Defense', 'Sp. Atk',\n",
      "       'Sp. Def', 'Speed', 'Generation', 'Legendary'],\n",
      "      dtype='object')\n",
      "20                 Pidgey\n",
      "21              Pidgeotto\n",
      "22                Pidgeot\n",
      "23    PidgeotMega Pidgeot\n",
      "24                Rattata\n",
      "Name: Name, dtype: object\n",
      "                    Name  HP  Attack\n",
      "0              Bulbasaur  45      49\n",
      "1                Ivysaur  60      62\n",
      "2               Venusaur  80      82\n",
      "3  VenusaurMega Venusaur  80     100\n",
      "4             Charmander  39      52\n"
     ]
    }
   ],
   "source": [
    "# display headers\n",
    "print(df.columns)\n",
    "\n",
    "# display specific coulmns\n",
    "print(df['Name'][20:25])\n",
    "\n",
    "#diplay multiple columns\n",
    "print(df[['Name', 'HP', 'Attack']][0:5])"
   ]
  },
  {
   "cell_type": "code",
   "execution_count": 52,
   "id": "5ee507c8",
   "metadata": {},
   "outputs": [
    {
     "name": "stdout",
     "output_type": "stream",
     "text": [
      "0 Bulbasaur\n",
      "1 Ivysaur\n",
      "2 Venusaur\n",
      "3 VenusaurMega Venusaur\n",
      "4 Charmander\n",
      "5 Charmeleon\n",
      "6 Charizard\n",
      "7 CharizardMega Charizard X\n",
      "8 CharizardMega Charizard Y\n",
      "9 Squirtle\n",
      "10 Wartortle\n",
      "11 Blastoise\n"
     ]
    }
   ],
   "source": [
    "# rows\n",
    "# print(df.head(10)) # first nth rows\n",
    "\n",
    "\n",
    "# using for!\n",
    "for index, row in df.iterrows():\n",
    "    print(index, row['Name'])\n",
    "    if index > 10:\n",
    "        break\n",
    "        \n"
   ]
  },
  {
   "cell_type": "code",
   "execution_count": 108,
   "id": "c0bfad15",
   "metadata": {},
   "outputs": [
    {
     "name": "stdout",
     "output_type": "stream",
     "text": [
      "       #                       Name Type 1    Type 2   HP  Attack  Defense  \\\n",
      "4      4                 Charmander   Fire       NaN   39      52       43   \n",
      "5      5                 Charmeleon   Fire       NaN   58      64       58   \n",
      "6      6                  Charizard   Fire    Flying   78      84       78   \n",
      "7      6  CharizardMega Charizard X   Fire    Dragon   78     130      111   \n",
      "8      6  CharizardMega Charizard Y   Fire    Flying   78     104       78   \n",
      "42    37                     Vulpix   Fire       NaN   38      41       40   \n",
      "43    38                  Ninetales   Fire       NaN   73      76       75   \n",
      "63    58                  Growlithe   Fire       NaN   55      70       45   \n",
      "64    59                   Arcanine   Fire       NaN   90     110       80   \n",
      "83    77                     Ponyta   Fire       NaN   50      85       55   \n",
      "84    78                   Rapidash   Fire       NaN   65     100       70   \n",
      "135  126                     Magmar   Fire       NaN   65      95       57   \n",
      "147  136                    Flareon   Fire       NaN   65     130       60   \n",
      "158  146                    Moltres   Fire    Flying   90     100       90   \n",
      "169  155                  Cyndaquil   Fire       NaN   39      52       43   \n",
      "170  156                    Quilava   Fire       NaN   58      64       58   \n",
      "171  157                 Typhlosion   Fire       NaN   78      84       78   \n",
      "236  218                     Slugma   Fire       NaN   40      40       40   \n",
      "237  219                   Magcargo   Fire      Rock   50      50      120   \n",
      "259  240                      Magby   Fire       NaN   45      75       37   \n",
      "263  244                      Entei   Fire       NaN  115     115       85   \n",
      "270  250                      Ho-oh   Fire    Flying  106     130       90   \n",
      "276  255                    Torchic   Fire       NaN   45      60       40   \n",
      "277  256                  Combusken   Fire  Fighting   60      85       60   \n",
      "278  257                   Blaziken   Fire  Fighting   80     120       70   \n",
      "279  257      BlazikenMega Blaziken   Fire  Fighting   80     160       80   \n",
      "352  322                      Numel   Fire    Ground   60      60       40   \n",
      "353  323                   Camerupt   Fire    Ground   70     100       70   \n",
      "354  323      CameruptMega Camerupt   Fire    Ground   70     120      100   \n",
      "355  324                    Torkoal   Fire       NaN   70      85      140   \n",
      "435  390                   Chimchar   Fire       NaN   44      58       44   \n",
      "436  391                   Monferno   Fire  Fighting   64      78       52   \n",
      "437  392                  Infernape   Fire  Fighting   76     104       71   \n",
      "518  467                  Magmortar   Fire       NaN   75      95       67   \n",
      "542  485                    Heatran   Fire     Steel   91      90      106   \n",
      "557  498                      Tepig   Fire       NaN   65      63       45   \n",
      "558  499                    Pignite   Fire  Fighting   90      93       55   \n",
      "559  500                     Emboar   Fire  Fighting  110     123       65   \n",
      "572  513                    Pansear   Fire       NaN   50      53       48   \n",
      "573  514                   Simisear   Fire       NaN   75      98       63   \n",
      "614  554                   Darumaka   Fire       NaN   70      90       45   \n",
      "615  555    DarmanitanStandard Mode   Fire       NaN  105     140       55   \n",
      "616  555         DarmanitanZen Mode   Fire   Psychic  105      30      105   \n",
      "692  631                    Heatmor   Fire       NaN   85      97       66   \n",
      "721  653                   Fennekin   Fire       NaN   40      45       40   \n",
      "722  654                    Braixen   Fire       NaN   59      59       58   \n",
      "723  655                    Delphox   Fire   Psychic   75      69       72   \n",
      "730  662                Fletchinder   Fire    Flying   62      73       55   \n",
      "731  663                 Talonflame   Fire    Flying   78      81       71   \n",
      "735  667                     Litleo   Fire    Normal   62      50       58   \n",
      "736  668                     Pyroar   Fire    Normal   86      68       72   \n",
      "799  721                  Volcanion   Fire     Water   80     110      120   \n",
      "\n",
      "     Sp. Atk  Sp. Def  Speed  Generation  Legendary  \n",
      "4         60       50     65           1      False  \n",
      "5         80       65     80           1      False  \n",
      "6        109       85    100           1      False  \n",
      "7        130       85    100           1      False  \n",
      "8        159      115    100           1      False  \n",
      "42        50       65     65           1      False  \n",
      "43        81      100    100           1      False  \n",
      "63        70       50     60           1      False  \n",
      "64       100       80     95           1      False  \n",
      "83        65       65     90           1      False  \n",
      "84        80       80    105           1      False  \n",
      "135      100       85     93           1      False  \n",
      "147       95      110     65           1      False  \n",
      "158      125       85     90           1       True  \n",
      "169       60       50     65           2      False  \n",
      "170       80       65     80           2      False  \n",
      "171      109       85    100           2      False  \n",
      "236       70       40     20           2      False  \n",
      "237       80       80     30           2      False  \n",
      "259       70       55     83           2      False  \n",
      "263       90       75    100           2       True  \n",
      "270      110      154     90           2       True  \n",
      "276       70       50     45           3      False  \n",
      "277       85       60     55           3      False  \n",
      "278      110       70     80           3      False  \n",
      "279      130       80    100           3      False  \n",
      "352       65       45     35           3      False  \n",
      "353      105       75     40           3      False  \n",
      "354      145      105     20           3      False  \n",
      "355       85       70     20           3      False  \n",
      "435       58       44     61           4      False  \n",
      "436       78       52     81           4      False  \n",
      "437      104       71    108           4      False  \n",
      "518      125       95     83           4      False  \n",
      "542      130      106     77           4       True  \n",
      "557       45       45     45           5      False  \n",
      "558       70       55     55           5      False  \n",
      "559      100       65     65           5      False  \n",
      "572       53       48     64           5      False  \n",
      "573       98       63    101           5      False  \n",
      "614       15       45     50           5      False  \n",
      "615       30       55     95           5      False  \n",
      "616      140      105     55           5      False  \n",
      "692      105       66     65           5      False  \n",
      "721       62       60     60           6      False  \n",
      "722       90       70     73           6      False  \n",
      "723      114      100    104           6      False  \n",
      "730       56       52     84           6      False  \n",
      "731       74       69    126           6      False  \n",
      "735       73       54     72           6      False  \n",
      "736      109       66    106           6      False  \n",
      "799      130       90     70           6       True  \n"
     ]
    }
   ],
   "source": [
    "# specific rows using iloc\n",
    "# print(df.iloc[5:15])\n",
    "\n",
    "# using loc\n",
    "#print(df.loc[0]) # using index\n",
    "\n",
    "print(df.loc[df['Type 1'] == 'Fire']) # print it if type 1 is Fire\n"
   ]
  },
  {
   "cell_type": "markdown",
   "id": "8e0e1417",
   "metadata": {},
   "source": [
    "## Adding Total column"
   ]
  },
  {
   "cell_type": "code",
   "execution_count": 113,
   "id": "b776c753",
   "metadata": {},
   "outputs": [
    {
     "ename": "SyntaxError",
     "evalue": "invalid syntax (1263474683.py, line 4)",
     "output_type": "error",
     "traceback": [
      "\u001b[0;36m  Input \u001b[0;32mIn [113]\u001b[0;36m\u001b[0m\n\u001b[0;31m    df['Total'] = i for i in power_list\u001b[0m\n\u001b[0m                    ^\u001b[0m\n\u001b[0;31mSyntaxError\u001b[0m\u001b[0;31m:\u001b[0m invalid syntax\n"
     ]
    }
   ],
   "source": [
    "power_list = list((df.columns))\n",
    "unwanted = ['#', 'Name', 'Type 1', 'Type 2', 'Generation', 'Legendary']\n",
    "power_list = [element for element in power_list if element not in unwanted]\n",
    "df['Total'] = i for i in power_list\n",
    "df"
   ]
  },
  {
   "cell_type": "markdown",
   "id": "dc016446",
   "metadata": {},
   "source": [
    "# Sorting and Describing"
   ]
  },
  {
   "cell_type": "markdown",
   "id": "f4d9638e",
   "metadata": {},
   "source": [
    "### df.describe()"
   ]
  },
  {
   "cell_type": "code",
   "execution_count": 54,
   "id": "5876d087",
   "metadata": {},
   "outputs": [
    {
     "data": {
      "text/html": [
       "<div>\n",
       "<style scoped>\n",
       "    .dataframe tbody tr th:only-of-type {\n",
       "        vertical-align: middle;\n",
       "    }\n",
       "\n",
       "    .dataframe tbody tr th {\n",
       "        vertical-align: top;\n",
       "    }\n",
       "\n",
       "    .dataframe thead th {\n",
       "        text-align: right;\n",
       "    }\n",
       "</style>\n",
       "<table border=\"1\" class=\"dataframe\">\n",
       "  <thead>\n",
       "    <tr style=\"text-align: right;\">\n",
       "      <th></th>\n",
       "      <th>#</th>\n",
       "      <th>HP</th>\n",
       "      <th>Attack</th>\n",
       "      <th>Defense</th>\n",
       "      <th>Sp. Atk</th>\n",
       "      <th>Sp. Def</th>\n",
       "      <th>Speed</th>\n",
       "      <th>Generation</th>\n",
       "    </tr>\n",
       "  </thead>\n",
       "  <tbody>\n",
       "    <tr>\n",
       "      <th>count</th>\n",
       "      <td>800.000000</td>\n",
       "      <td>800.000000</td>\n",
       "      <td>800.000000</td>\n",
       "      <td>800.000000</td>\n",
       "      <td>800.000000</td>\n",
       "      <td>800.000000</td>\n",
       "      <td>800.000000</td>\n",
       "      <td>800.00000</td>\n",
       "    </tr>\n",
       "    <tr>\n",
       "      <th>mean</th>\n",
       "      <td>362.813750</td>\n",
       "      <td>69.258750</td>\n",
       "      <td>79.001250</td>\n",
       "      <td>73.842500</td>\n",
       "      <td>72.820000</td>\n",
       "      <td>71.902500</td>\n",
       "      <td>68.277500</td>\n",
       "      <td>3.32375</td>\n",
       "    </tr>\n",
       "    <tr>\n",
       "      <th>std</th>\n",
       "      <td>208.343798</td>\n",
       "      <td>25.534669</td>\n",
       "      <td>32.457366</td>\n",
       "      <td>31.183501</td>\n",
       "      <td>32.722294</td>\n",
       "      <td>27.828916</td>\n",
       "      <td>29.060474</td>\n",
       "      <td>1.66129</td>\n",
       "    </tr>\n",
       "    <tr>\n",
       "      <th>min</th>\n",
       "      <td>1.000000</td>\n",
       "      <td>1.000000</td>\n",
       "      <td>5.000000</td>\n",
       "      <td>5.000000</td>\n",
       "      <td>10.000000</td>\n",
       "      <td>20.000000</td>\n",
       "      <td>5.000000</td>\n",
       "      <td>1.00000</td>\n",
       "    </tr>\n",
       "    <tr>\n",
       "      <th>25%</th>\n",
       "      <td>184.750000</td>\n",
       "      <td>50.000000</td>\n",
       "      <td>55.000000</td>\n",
       "      <td>50.000000</td>\n",
       "      <td>49.750000</td>\n",
       "      <td>50.000000</td>\n",
       "      <td>45.000000</td>\n",
       "      <td>2.00000</td>\n",
       "    </tr>\n",
       "    <tr>\n",
       "      <th>50%</th>\n",
       "      <td>364.500000</td>\n",
       "      <td>65.000000</td>\n",
       "      <td>75.000000</td>\n",
       "      <td>70.000000</td>\n",
       "      <td>65.000000</td>\n",
       "      <td>70.000000</td>\n",
       "      <td>65.000000</td>\n",
       "      <td>3.00000</td>\n",
       "    </tr>\n",
       "    <tr>\n",
       "      <th>75%</th>\n",
       "      <td>539.250000</td>\n",
       "      <td>80.000000</td>\n",
       "      <td>100.000000</td>\n",
       "      <td>90.000000</td>\n",
       "      <td>95.000000</td>\n",
       "      <td>90.000000</td>\n",
       "      <td>90.000000</td>\n",
       "      <td>5.00000</td>\n",
       "    </tr>\n",
       "    <tr>\n",
       "      <th>max</th>\n",
       "      <td>721.000000</td>\n",
       "      <td>255.000000</td>\n",
       "      <td>190.000000</td>\n",
       "      <td>230.000000</td>\n",
       "      <td>194.000000</td>\n",
       "      <td>230.000000</td>\n",
       "      <td>180.000000</td>\n",
       "      <td>6.00000</td>\n",
       "    </tr>\n",
       "  </tbody>\n",
       "</table>\n",
       "</div>"
      ],
      "text/plain": [
       "                #          HP      Attack     Defense     Sp. Atk     Sp. Def  \\\n",
       "count  800.000000  800.000000  800.000000  800.000000  800.000000  800.000000   \n",
       "mean   362.813750   69.258750   79.001250   73.842500   72.820000   71.902500   \n",
       "std    208.343798   25.534669   32.457366   31.183501   32.722294   27.828916   \n",
       "min      1.000000    1.000000    5.000000    5.000000   10.000000   20.000000   \n",
       "25%    184.750000   50.000000   55.000000   50.000000   49.750000   50.000000   \n",
       "50%    364.500000   65.000000   75.000000   70.000000   65.000000   70.000000   \n",
       "75%    539.250000   80.000000  100.000000   90.000000   95.000000   90.000000   \n",
       "max    721.000000  255.000000  190.000000  230.000000  194.000000  230.000000   \n",
       "\n",
       "            Speed  Generation  \n",
       "count  800.000000   800.00000  \n",
       "mean    68.277500     3.32375  \n",
       "std     29.060474     1.66129  \n",
       "min      5.000000     1.00000  \n",
       "25%     45.000000     2.00000  \n",
       "50%     65.000000     3.00000  \n",
       "75%     90.000000     5.00000  \n",
       "max    180.000000     6.00000  "
      ]
     },
     "execution_count": 54,
     "metadata": {},
     "output_type": "execute_result"
    }
   ],
   "source": [
    "df.describe()"
   ]
  },
  {
   "cell_type": "code",
   "execution_count": 55,
   "id": "c7179aca",
   "metadata": {},
   "outputs": [
    {
     "data": {
      "text/plain": [
       "167.0573269836873"
      ]
     },
     "execution_count": 55,
     "metadata": {},
     "output_type": "execute_result"
    }
   ],
   "source": [
    "df.describe().mean() # display only mean row\n",
    "df.describe().mean().loc['Attack'] # mean attack"
   ]
  },
  {
   "cell_type": "markdown",
   "id": "420a2143",
   "metadata": {},
   "source": [
    "### corr, describe, plot example!!"
   ]
  },
  {
   "cell_type": "code",
   "execution_count": 83,
   "id": "71b948e0",
   "metadata": {},
   "outputs": [
    {
     "name": "stdout",
     "output_type": "stream",
     "text": [
      "               HP    Attack   Defense   Sp. Atk   Sp. Def     Speed\n",
      "HP       1.000000  0.853464  0.807323  0.873751  0.869826  0.827164\n",
      "Attack   0.853464  1.000000  0.848219  0.904344  0.715207  0.841725\n",
      "Defense  0.807323  0.848219  1.000000  0.700249  0.777618  0.570869\n",
      "Sp. Atk  0.873751  0.904344  0.700249  1.000000  0.844198  0.862130\n",
      "Sp. Def  0.869826  0.715207  0.777618  0.844198  1.000000  0.580120\n",
      "Speed    0.827164  0.841725  0.570869  0.862130  0.580120  1.000000\n",
      "\n",
      "\n",
      "********************************************************************************\n",
      "\n",
      "\n",
      "\n",
      "              HP      Attack     Defense     Sp. Atk     Sp. Def       Speed\n",
      "count  10.000000   10.000000   10.000000   10.000000   10.000000   10.000000\n",
      "mean   64.000000   77.500000   75.100000   95.500000   82.900000   75.300000\n",
      "std    16.792856   27.451978   25.636129   34.750699   23.086552   21.597582\n",
      "min    39.000000   48.000000   43.000000   50.000000   50.000000   43.000000\n",
      "25%    48.250000   54.500000   59.250000   68.750000   65.000000   61.250000\n",
      "50%    69.000000   73.000000   71.500000   90.000000   82.500000   80.000000\n",
      "75%    78.000000   96.000000   81.750000  118.750000   96.250000   95.000000\n",
      "max    80.000000  130.000000  123.000000  159.000000  120.000000  100.000000\n"
     ]
    },
    {
     "data": {
      "image/png": "[encoded data removed]",
      "text/plain": [
       "<Figure size 432x288 with 1 Axes>"
      ]
     },
     "metadata": {
      "needs_background": "light"
     },
     "output_type": "display_data"
    }
   ],
   "source": [
    "df_temp = df.iloc[0:10].drop(columns=['#', 'Generation', 'Legendary'])\n",
    "\n",
    "df_temp.plot()\n",
    "print(df_temp.corr().to_string() + '\\n\\n\\n' + '*'*80 + '\\n\\n\\n')\n",
    "\n",
    "print(df_temp.describe().to_string())"
   ]
  },
  {
   "cell_type": "markdown",
   "id": "18ac809b",
   "metadata": {},
   "source": [
    "### an example!"
   ]
  },
  {
   "cell_type": "code",
   "execution_count": 56,
   "id": "6d624bd9",
   "metadata": {
    "scrolled": true
   },
   "outputs": [
    {
     "data": {
      "text/html": [
       "<div>\n",
       "<style scoped>\n",
       "    .dataframe tbody tr th:only-of-type {\n",
       "        vertical-align: middle;\n",
       "    }\n",
       "\n",
       "    .dataframe tbody tr th {\n",
       "        vertical-align: top;\n",
       "    }\n",
       "\n",
       "    .dataframe thead th {\n",
       "        text-align: right;\n",
       "    }\n",
       "</style>\n",
       "<table border=\"1\" class=\"dataframe\">\n",
       "  <thead>\n",
       "    <tr style=\"text-align: right;\">\n",
       "      <th></th>\n",
       "      <th>#</th>\n",
       "      <th>Name</th>\n",
       "      <th>Type 1</th>\n",
       "      <th>Type 2</th>\n",
       "      <th>HP</th>\n",
       "      <th>Attack</th>\n",
       "      <th>Defense</th>\n",
       "      <th>Sp. Atk</th>\n",
       "      <th>Sp. Def</th>\n",
       "      <th>Speed</th>\n",
       "      <th>Generation</th>\n",
       "      <th>Legendary</th>\n",
       "    </tr>\n",
       "  </thead>\n",
       "  <tbody>\n",
       "    <tr>\n",
       "      <th>163</th>\n",
       "      <td>150</td>\n",
       "      <td>MewtwoMega Mewtwo X</td>\n",
       "      <td>Psychic</td>\n",
       "      <td>Fighting</td>\n",
       "      <td>106</td>\n",
       "      <td>190</td>\n",
       "      <td>100</td>\n",
       "      <td>154</td>\n",
       "      <td>100</td>\n",
       "      <td>130</td>\n",
       "      <td>1</td>\n",
       "      <td>True</td>\n",
       "    </tr>\n",
       "    <tr>\n",
       "      <th>232</th>\n",
       "      <td>214</td>\n",
       "      <td>HeracrossMega Heracross</td>\n",
       "      <td>Bug</td>\n",
       "      <td>Fighting</td>\n",
       "      <td>80</td>\n",
       "      <td>185</td>\n",
       "      <td>115</td>\n",
       "      <td>40</td>\n",
       "      <td>105</td>\n",
       "      <td>75</td>\n",
       "      <td>2</td>\n",
       "      <td>False</td>\n",
       "    </tr>\n",
       "    <tr>\n",
       "      <th>424</th>\n",
       "      <td>383</td>\n",
       "      <td>GroudonPrimal Groudon</td>\n",
       "      <td>Ground</td>\n",
       "      <td>Fire</td>\n",
       "      <td>100</td>\n",
       "      <td>180</td>\n",
       "      <td>160</td>\n",
       "      <td>150</td>\n",
       "      <td>90</td>\n",
       "      <td>90</td>\n",
       "      <td>3</td>\n",
       "      <td>True</td>\n",
       "    </tr>\n",
       "    <tr>\n",
       "      <th>426</th>\n",
       "      <td>384</td>\n",
       "      <td>RayquazaMega Rayquaza</td>\n",
       "      <td>Dragon</td>\n",
       "      <td>Flying</td>\n",
       "      <td>105</td>\n",
       "      <td>180</td>\n",
       "      <td>100</td>\n",
       "      <td>180</td>\n",
       "      <td>100</td>\n",
       "      <td>115</td>\n",
       "      <td>3</td>\n",
       "      <td>True</td>\n",
       "    </tr>\n",
       "    <tr>\n",
       "      <th>429</th>\n",
       "      <td>386</td>\n",
       "      <td>DeoxysAttack Forme</td>\n",
       "      <td>Psychic</td>\n",
       "      <td>NaN</td>\n",
       "      <td>50</td>\n",
       "      <td>180</td>\n",
       "      <td>20</td>\n",
       "      <td>180</td>\n",
       "      <td>20</td>\n",
       "      <td>150</td>\n",
       "      <td>3</td>\n",
       "      <td>True</td>\n",
       "    </tr>\n",
       "    <tr>\n",
       "      <th>494</th>\n",
       "      <td>445</td>\n",
       "      <td>GarchompMega Garchomp</td>\n",
       "      <td>Dragon</td>\n",
       "      <td>Ground</td>\n",
       "      <td>108</td>\n",
       "      <td>170</td>\n",
       "      <td>115</td>\n",
       "      <td>120</td>\n",
       "      <td>95</td>\n",
       "      <td>92</td>\n",
       "      <td>4</td>\n",
       "      <td>False</td>\n",
       "    </tr>\n",
       "    <tr>\n",
       "      <th>711</th>\n",
       "      <td>646</td>\n",
       "      <td>KyuremBlack Kyurem</td>\n",
       "      <td>Dragon</td>\n",
       "      <td>Ice</td>\n",
       "      <td>125</td>\n",
       "      <td>170</td>\n",
       "      <td>100</td>\n",
       "      <td>120</td>\n",
       "      <td>90</td>\n",
       "      <td>95</td>\n",
       "      <td>5</td>\n",
       "      <td>True</td>\n",
       "    </tr>\n",
       "  </tbody>\n",
       "</table>\n",
       "</div>"
      ],
      "text/plain": [
       "       #                     Name   Type 1    Type 2   HP  Attack  Defense  \\\n",
       "163  150      MewtwoMega Mewtwo X  Psychic  Fighting  106     190      100   \n",
       "232  214  HeracrossMega Heracross      Bug  Fighting   80     185      115   \n",
       "424  383    GroudonPrimal Groudon   Ground      Fire  100     180      160   \n",
       "426  384    RayquazaMega Rayquaza   Dragon    Flying  105     180      100   \n",
       "429  386       DeoxysAttack Forme  Psychic       NaN   50     180       20   \n",
       "494  445    GarchompMega Garchomp   Dragon    Ground  108     170      115   \n",
       "711  646       KyuremBlack Kyurem   Dragon       Ice  125     170      100   \n",
       "\n",
       "     Sp. Atk  Sp. Def  Speed  Generation  Legendary  \n",
       "163      154      100    130           1       True  \n",
       "232       40      105     75           2      False  \n",
       "424      150       90     90           3       True  \n",
       "426      180      100    115           3       True  \n",
       "429      180       20    150           3       True  \n",
       "494      120       95     92           4      False  \n",
       "711      120       90     95           5       True  "
      ]
     },
     "execution_count": 56,
     "metadata": {},
     "output_type": "execute_result"
    }
   ],
   "source": [
    "# e.g. \n",
    "pivot = df.describe().mean().loc['Attack']\n",
    "df.loc[df['Attack'] >= pivot]"
   ]
  },
  {
   "cell_type": "code",
   "execution_count": null,
   "id": "a3afca1d",
   "metadata": {},
   "outputs": [],
   "source": []
  },
  {
   "cell_type": "markdown",
   "id": "6e7f20f4",
   "metadata": {},
   "source": [
    "# Cleaning Data"
   ]
  },
  {
   "cell_type": "code",
   "execution_count": null,
   "id": "fae5cd02",
   "metadata": {},
   "outputs": [],
   "source": []
  },
  {
   "cell_type": "markdown",
   "id": "a12a2b6f",
   "metadata": {},
   "source": [
    "# Correleations"
   ]
  },
  {
   "cell_type": "code",
   "execution_count": 39,
   "id": "c33a38d2",
   "metadata": {},
   "outputs": [
    {
     "data": {
      "text/html": [
       "<div>\n",
       "<style scoped>\n",
       "    .dataframe tbody tr th:only-of-type {\n",
       "        vertical-align: middle;\n",
       "    }\n",
       "\n",
       "    .dataframe tbody tr th {\n",
       "        vertical-align: top;\n",
       "    }\n",
       "\n",
       "    .dataframe thead th {\n",
       "        text-align: right;\n",
       "    }\n",
       "</style>\n",
       "<table border=\"1\" class=\"dataframe\">\n",
       "  <thead>\n",
       "    <tr style=\"text-align: right;\">\n",
       "      <th></th>\n",
       "      <th>Duration</th>\n",
       "      <th>Pulse</th>\n",
       "      <th>Maxpulse</th>\n",
       "      <th>Calories</th>\n",
       "    </tr>\n",
       "  </thead>\n",
       "  <tbody>\n",
       "    <tr>\n",
       "      <th>0</th>\n",
       "      <td>60</td>\n",
       "      <td>110</td>\n",
       "      <td>130</td>\n",
       "      <td>409.1</td>\n",
       "    </tr>\n",
       "    <tr>\n",
       "      <th>1</th>\n",
       "      <td>60</td>\n",
       "      <td>117</td>\n",
       "      <td>145</td>\n",
       "      <td>479.0</td>\n",
       "    </tr>\n",
       "    <tr>\n",
       "      <th>2</th>\n",
       "      <td>60</td>\n",
       "      <td>103</td>\n",
       "      <td>135</td>\n",
       "      <td>340.0</td>\n",
       "    </tr>\n",
       "    <tr>\n",
       "      <th>3</th>\n",
       "      <td>45</td>\n",
       "      <td>109</td>\n",
       "      <td>175</td>\n",
       "      <td>282.4</td>\n",
       "    </tr>\n",
       "    <tr>\n",
       "      <th>4</th>\n",
       "      <td>45</td>\n",
       "      <td>117</td>\n",
       "      <td>148</td>\n",
       "      <td>406.0</td>\n",
       "    </tr>\n",
       "    <tr>\n",
       "      <th>...</th>\n",
       "      <td>...</td>\n",
       "      <td>...</td>\n",
       "      <td>...</td>\n",
       "      <td>...</td>\n",
       "    </tr>\n",
       "    <tr>\n",
       "      <th>164</th>\n",
       "      <td>60</td>\n",
       "      <td>105</td>\n",
       "      <td>140</td>\n",
       "      <td>290.8</td>\n",
       "    </tr>\n",
       "    <tr>\n",
       "      <th>165</th>\n",
       "      <td>60</td>\n",
       "      <td>110</td>\n",
       "      <td>145</td>\n",
       "      <td>300.0</td>\n",
       "    </tr>\n",
       "    <tr>\n",
       "      <th>166</th>\n",
       "      <td>60</td>\n",
       "      <td>115</td>\n",
       "      <td>145</td>\n",
       "      <td>310.2</td>\n",
       "    </tr>\n",
       "    <tr>\n",
       "      <th>167</th>\n",
       "      <td>75</td>\n",
       "      <td>120</td>\n",
       "      <td>150</td>\n",
       "      <td>320.4</td>\n",
       "    </tr>\n",
       "    <tr>\n",
       "      <th>168</th>\n",
       "      <td>75</td>\n",
       "      <td>125</td>\n",
       "      <td>150</td>\n",
       "      <td>330.4</td>\n",
       "    </tr>\n",
       "  </tbody>\n",
       "</table>\n",
       "<p>169 rows × 4 columns</p>\n",
       "</div>"
      ],
      "text/plain": [
       "     Duration  Pulse  Maxpulse  Calories\n",
       "0          60    110       130     409.1\n",
       "1          60    117       145     479.0\n",
       "2          60    103       135     340.0\n",
       "3          45    109       175     282.4\n",
       "4          45    117       148     406.0\n",
       "..        ...    ...       ...       ...\n",
       "164        60    105       140     290.8\n",
       "165        60    110       145     300.0\n",
       "166        60    115       145     310.2\n",
       "167        75    120       150     320.4\n",
       "168        75    125       150     330.4\n",
       "\n",
       "[169 rows x 4 columns]"
      ]
     },
     "execution_count": 39,
     "metadata": {},
     "output_type": "execute_result"
    }
   ],
   "source": [
    "df1 = pd.read_csv('data.csv')\n",
    "df1"
   ]
  },
  {
   "cell_type": "code",
   "execution_count": 40,
   "id": "e41553aa",
   "metadata": {},
   "outputs": [
    {
     "data": {
      "text/html": [
       "<div>\n",
       "<style scoped>\n",
       "    .dataframe tbody tr th:only-of-type {\n",
       "        vertical-align: middle;\n",
       "    }\n",
       "\n",
       "    .dataframe tbody tr th {\n",
       "        vertical-align: top;\n",
       "    }\n",
       "\n",
       "    .dataframe thead th {\n",
       "        text-align: right;\n",
       "    }\n",
       "</style>\n",
       "<table border=\"1\" class=\"dataframe\">\n",
       "  <thead>\n",
       "    <tr style=\"text-align: right;\">\n",
       "      <th></th>\n",
       "      <th>Duration</th>\n",
       "      <th>Pulse</th>\n",
       "      <th>Maxpulse</th>\n",
       "      <th>Calories</th>\n",
       "    </tr>\n",
       "  </thead>\n",
       "  <tbody>\n",
       "    <tr>\n",
       "      <th>Duration</th>\n",
       "      <td>1.000000</td>\n",
       "      <td>-0.155408</td>\n",
       "      <td>0.009403</td>\n",
       "      <td>0.922717</td>\n",
       "    </tr>\n",
       "    <tr>\n",
       "      <th>Pulse</th>\n",
       "      <td>-0.155408</td>\n",
       "      <td>1.000000</td>\n",
       "      <td>0.786535</td>\n",
       "      <td>0.025121</td>\n",
       "    </tr>\n",
       "    <tr>\n",
       "      <th>Maxpulse</th>\n",
       "      <td>0.009403</td>\n",
       "      <td>0.786535</td>\n",
       "      <td>1.000000</td>\n",
       "      <td>0.203813</td>\n",
       "    </tr>\n",
       "    <tr>\n",
       "      <th>Calories</th>\n",
       "      <td>0.922717</td>\n",
       "      <td>0.025121</td>\n",
       "      <td>0.203813</td>\n",
       "      <td>1.000000</td>\n",
       "    </tr>\n",
       "  </tbody>\n",
       "</table>\n",
       "</div>"
      ],
      "text/plain": [
       "          Duration     Pulse  Maxpulse  Calories\n",
       "Duration  1.000000 -0.155408  0.009403  0.922717\n",
       "Pulse    -0.155408  1.000000  0.786535  0.025121\n",
       "Maxpulse  0.009403  0.786535  1.000000  0.203813\n",
       "Calories  0.922717  0.025121  0.203813  1.000000"
      ]
     },
     "execution_count": 40,
     "metadata": {},
     "output_type": "execute_result"
    }
   ],
   "source": [
    "df1.corr()"
   ]
  },
  {
   "cell_type": "code",
   "execution_count": 41,
   "id": "2d39772c",
   "metadata": {},
   "outputs": [
    {
     "data": {
      "text/plain": [
       "<AxesSubplot:>"
      ]
     },
     "execution_count": 41,
     "metadata": {},
     "output_type": "execute_result"
    },
    {
     "data": {
      "image/png": "[encoded data removed]",
      "text/plain": [
       "<Figure size 432x288 with 1 Axes>"
      ]
     },
     "metadata": {
      "needs_background": "light"
     },
     "output_type": "display_data"
    }
   ],
   "source": [
    "df1.plot()"
   ]
  }
 ],
 "metadata": {
  "kernelspec": {
   "display_name": "Python 3 (ipykernel)",
   "language": "python",
   "name": "python3"
  },
  "language_info": {
   "codemirror_mode": {
    "name": "ipython",
    "version": 3
   },
   "file_extension": ".py",
   "mimetype": "text/x-python",
   "name": "python",
   "nbconvert_exporter": "python",
   "pygments_lexer": "ipython3",
   "version": "3.9.12"
  }
 },
 "nbformat": 4,
 "nbformat_minor": 5
}
