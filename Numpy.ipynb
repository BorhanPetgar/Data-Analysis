{
 "cells": [
  {
   "cell_type": "code",
   "execution_count": 2,
   "id": "f4a55ecd",
   "metadata": {
    "scrolled": true
   },
   "outputs": [
    {
     "name": "stdout",
     "output_type": "stream",
     "text": [
      "matrix: \n",
      "[[3 7 8]\n",
      " [2 1 9]]\n",
      "dimension: 2\n",
      "shape: (2, 3)\n"
     ]
    }
   ],
   "source": [
    "import numpy as np\n",
    "\n",
    "\n",
    "a = np.array([[3,7,8], [2,1,9]])\n",
    "print(f'matrix: \\n{a}\\ndimension: {a.ndim}\\nshape: {a.shape}')\n"
   ]
  },
  {
   "cell_type": "code",
   "execution_count": 3,
   "id": "a9176dcf",
   "metadata": {},
   "outputs": [
    {
     "data": {
      "text/plain": [
       "9"
      ]
     },
     "execution_count": 3,
     "metadata": {},
     "output_type": "execute_result"
    }
   ],
   "source": [
    "# Get specific element\n",
    "a[1,2]"
   ]
  },
  {
   "cell_type": "code",
   "execution_count": 4,
   "id": "456b8678",
   "metadata": {},
   "outputs": [
    {
     "data": {
      "text/plain": [
       "array([7, 1])"
      ]
     },
     "execution_count": 4,
     "metadata": {},
     "output_type": "execute_result"
    }
   ],
   "source": [
    "# Get specific column\n",
    "# e.g. second column\n",
    "a[:,1]"
   ]
  },
  {
   "cell_type": "code",
   "execution_count": 5,
   "id": "82af7e5f",
   "metadata": {},
   "outputs": [
    {
     "data": {
      "text/plain": [
       "array([3, 7, 8])"
      ]
     },
     "execution_count": 5,
     "metadata": {},
     "output_type": "execute_result"
    }
   ],
   "source": [
    "# Get specific row\n",
    "# e.g. first row\n",
    "a[0,:]"
   ]
  },
  {
   "cell_type": "code",
   "execution_count": 6,
   "id": "9263a0f3",
   "metadata": {
    "scrolled": true
   },
   "outputs": [
    {
     "name": "stdout",
     "output_type": "stream",
     "text": [
      "[5.  5.2 5.4 5.6 5.8 6.  6.2 6.4 6.6 6.8 7.  7.2 7.4 7.6 7.8]\n"
     ]
    }
   ],
   "source": [
    "# numpy.arange creates arrays with regularly incrementing values.\n",
    "b0 = np.arange(5,8,0.2) # [5, 5.2, ..., 7.8]\n",
    "print(b0)"
   ]
  },
  {
   "cell_type": "code",
   "execution_count": 7,
   "id": "f0646b87",
   "metadata": {},
   "outputs": [
    {
     "data": {
      "text/plain": [
       "array([ 5., 10., 15., 20.])"
      ]
     },
     "execution_count": 7,
     "metadata": {},
     "output_type": "execute_result"
    }
   ],
   "source": [
    "# numpy.linspace will create arrays with a specified number of elements,\n",
    "# and spaced equally between the specified beginning and end values\n",
    "b1 = np.linspace(5, 20, 4)\n",
    "b1"
   ]
  },
  {
   "cell_type": "code",
   "execution_count": 8,
   "id": "d784f742",
   "metadata": {},
   "outputs": [
    {
     "data": {
      "text/plain": [
       "array([[1., 0., 0., 0., 0.],\n",
       "       [0., 1., 0., 0., 0.],\n",
       "       [0., 0., 1., 0., 0.],\n",
       "       [0., 0., 0., 1., 0.],\n",
       "       [0., 0., 0., 0., 1.]])"
      ]
     },
     "execution_count": 8,
     "metadata": {},
     "output_type": "execute_result"
    }
   ],
   "source": [
    "np.eye(5)"
   ]
  },
  {
   "cell_type": "code",
   "execution_count": 9,
   "id": "b73c1aed",
   "metadata": {},
   "outputs": [
    {
     "data": {
      "text/plain": [
       "array([[5, 5, 5, 5],\n",
       "       [5, 5, 5, 5],\n",
       "       [5, 5, 5, 5],\n",
       "       [5, 5, 5, 5]])"
      ]
     },
     "execution_count": 9,
     "metadata": {},
     "output_type": "execute_result"
    }
   ],
   "source": [
    "# scalar * np.ones()\n",
    "5 * np.ones((4, 4), dtype=int)"
   ]
  },
  {
   "cell_type": "code",
   "execution_count": 10,
   "id": "d36ea60e",
   "metadata": {},
   "outputs": [
    {
     "data": {
      "text/plain": [
       "array([[0., 0., 0.],\n",
       "       [0., 0., 0.]])"
      ]
     },
     "execution_count": 10,
     "metadata": {},
     "output_type": "execute_result"
    }
   ],
   "source": [
    "# np.zeros()\n",
    "np.zeros((2, 3))"
   ]
  },
  {
   "cell_type": "code",
   "execution_count": 11,
   "id": "15f22bea",
   "metadata": {},
   "outputs": [
    {
     "data": {
      "text/plain": [
       "array([[6, 6]])"
      ]
     },
     "execution_count": 11,
     "metadata": {},
     "output_type": "execute_result"
    }
   ],
   "source": [
    "# np.full(shape, value)\n",
    "np.full((1,2), 6)"
   ]
  },
  {
   "cell_type": "code",
   "execution_count": 12,
   "id": "aada1827",
   "metadata": {},
   "outputs": [
    {
     "data": {
      "text/plain": [
       "array([[3, 2],\n",
       "       [7, 1],\n",
       "       [8, 9]])"
      ]
     },
     "execution_count": 12,
     "metadata": {},
     "output_type": "execute_result"
    }
   ],
   "source": [
    "# a.transpose() == a.T => calculate the transpose\n",
    "a.T"
   ]
  },
  {
   "cell_type": "code",
   "execution_count": 13,
   "id": "72ef5786",
   "metadata": {},
   "outputs": [
    {
     "name": "stdout",
     "output_type": "stream",
     "text": [
      "[[[0 0 0]\n",
      "  [1 1 1]]\n",
      "\n",
      " [[0 1 2]\n",
      "  [0 1 2]]]\n"
     ]
    },
    {
     "data": {
      "text/plain": [
       "(2, 2, 3)"
      ]
     },
     "execution_count": 13,
     "metadata": {},
     "output_type": "execute_result"
    }
   ],
   "source": [
    "b3 = np.mgrid[0:2,0:3]\n",
    "# help(np.mgrid)\n",
    "print(b3)\n",
    "b3.shape"
   ]
  },
  {
   "cell_type": "code",
   "execution_count": 14,
   "id": "6f955004",
   "metadata": {},
   "outputs": [
    {
     "data": {
      "text/plain": [
       "array([[ 1,  2,  3,  4],\n",
       "       [ 5,  6,  7,  8],\n",
       "       [ 9, 10, 11, 12]])"
      ]
     },
     "execution_count": 14,
     "metadata": {},
     "output_type": "execute_result"
    }
   ],
   "source": [
    "# np.reshape + np.arange\n",
    "b5 = np.arange(1,13,1)\n",
    "b5\n",
    "b5.reshape(3, 4)"
   ]
  },
  {
   "cell_type": "code",
   "execution_count": 15,
   "id": "7b57c9e1",
   "metadata": {},
   "outputs": [
    {
     "data": {
      "text/plain": [
       "array([[7, 7, 7],\n",
       "       [7, 7, 7],\n",
       "       [7, 7, 7],\n",
       "       [7, 7, 7]])"
      ]
     },
     "execution_count": 15,
     "metadata": {},
     "output_type": "execute_result"
    }
   ],
   "source": [
    "# np.full_like  => use b6's shape\n",
    "b6 = np.array([[1,2,3],[4,5,6],[7,8,9],[10,11,12]])\n",
    "np.full_like(b6, 7)"
   ]
  },
  {
   "cell_type": "code",
   "execution_count": 16,
   "id": "e4799db9",
   "metadata": {},
   "outputs": [
    {
     "data": {
      "text/plain": [
       "array([[1., 0.],\n",
       "       [0., 1.]])"
      ]
     },
     "execution_count": 16,
     "metadata": {},
     "output_type": "execute_result"
    }
   ],
   "source": [
    "# identity\n",
    "np.identity(2)"
   ]
  },
  {
   "cell_type": "code",
   "execution_count": 17,
   "id": "d7442072",
   "metadata": {},
   "outputs": [
    {
     "data": {
      "text/plain": [
       "array([[8, 3, 8, 9],\n",
       "       [1, 1, 5, 8],\n",
       "       [6, 1, 5, 9]])"
      ]
     },
     "execution_count": 17,
     "metadata": {},
     "output_type": "execute_result"
    }
   ],
   "source": [
    "# random\n",
    "np.random.randint(1, 10, (3,4)) #(from, till, (shape))"
   ]
  },
  {
   "cell_type": "code",
   "execution_count": 18,
   "id": "6c24313c",
   "metadata": {
    "scrolled": true
   },
   "outputs": [
    {
     "name": "stdout",
     "output_type": "stream",
     "text": [
      "[[1. 1. 1. 1. 1.]\n",
      " [1. 0. 0. 0. 1.]\n",
      " [1. 0. 9. 0. 1.]\n",
      " [1. 0. 0. 0. 1.]\n",
      " [1. 1. 1. 1. 1.]]\n"
     ]
    }
   ],
   "source": [
    "# initialize a specific array\n",
    "output = np.ones((5,5))\n",
    "inner = np.zeros((3,3))\n",
    "inner[1,1] = 9\n",
    "output[1:4, 1:4] = inner\n",
    "print(output)"
   ]
  },
  {
   "cell_type": "code",
   "execution_count": 19,
   "id": "fb213e89",
   "metadata": {},
   "outputs": [
    {
     "data": {
      "text/plain": [
       "-27.0"
      ]
     },
     "execution_count": 19,
     "metadata": {},
     "output_type": "execute_result"
    }
   ],
   "source": [
    "#### Linear Algebra \n",
    "b7 = np.array([[1,2,3],[7,8,6],[4,5,9]])\n",
    "b7 + 2\n",
    "b7 - 2\n",
    "b7 / 2\n",
    "b7 * 2\n",
    "b7 ** 2\n",
    "b8 = 3 * np.ones((3, 4))\n",
    "b7 @ b8 # np.matmul(b7, b8)\n",
    "np.linalg.det(b7) #det"
   ]
  },
  {
   "cell_type": "code",
   "execution_count": 20,
   "id": "a2d7ecac",
   "metadata": {
    "scrolled": true
   },
   "outputs": [
    {
     "name": "stdout",
     "output_type": "stream",
     "text": [
      "[0 1 2 3 4]\n"
     ]
    }
   ],
   "source": [
    "#np.tile(69, (2, 3))\n",
    "print(np.arange(0,5))\n",
    "# print(list(np.array([0,1,2,3,4]))) cast np.array to list and vice versa"
   ]
  },
  {
   "cell_type": "code",
   "execution_count": 21,
   "id": "052b2fb0",
   "metadata": {
    "scrolled": true
   },
   "outputs": [
    {
     "name": "stdout",
     "output_type": "stream",
     "text": [
      "[[ 1  2  3  4  5]\n",
      " [ 6  7  8  9 10]\n",
      " [11 12 13 14 15]\n",
      " [16 17 18 19 20]\n",
      " [21 22 23 24 25]\n",
      " [26 27 28 29 30]]\n",
      "[[11 12]\n",
      " [16 17]]\n",
      "[ 2  8 14 20]\n",
      "[[ 4  5]\n",
      " [24 25]\n",
      " [29 30]]\n"
     ]
    }
   ],
   "source": [
    "# create a 6*5 matrix which value are a sequence from 1 to 30\n",
    "b9 = np.arange(1, 31).reshape(6,5)\n",
    "print(b9)\n",
    "print(b9[2:4,0:2])\n",
    "print(b9[np.arange(0,4),np.arange(1,5)])\n",
    "print(b9[[0,4,5],3:])"
   ]
  },
  {
   "cell_type": "markdown",
   "id": "bd506a76",
   "metadata": {},
   "source": [
    "# vstack and hstack"
   ]
  },
  {
   "cell_type": "code",
   "execution_count": 28,
   "id": "f81dd01c",
   "metadata": {},
   "outputs": [
    {
     "data": {
      "text/plain": [
       "array([[ 1,  2,  3,  4,  5,  6],\n",
       "       [ 7,  8,  9, 10, 11, 12],\n",
       "       [13, 14, 15, 16, 17, 18],\n",
       "       [19, 20, 21, 22, 23, 24],\n",
       "       [25, 26, 27, 28, 29, 30],\n",
       "       [31, 32, 33, 34, 35, 36]])"
      ]
     },
     "execution_count": 28,
     "metadata": {},
     "output_type": "execute_result"
    }
   ],
   "source": [
    "a = np.arange(1, 31).reshape(5, 6)\n",
    "a0 = np.arange(31, 37)\n",
    "a = np.vstack((a, a0))\n",
    "a"
   ]
  },
  {
   "cell_type": "markdown",
   "id": "3540b31c",
   "metadata": {},
   "source": [
    "# flatten"
   ]
  },
  {
   "cell_type": "code",
   "execution_count": 32,
   "id": "8121a678",
   "metadata": {},
   "outputs": [
    {
     "name": "stdout",
     "output_type": "stream",
     "text": [
      "[[8 9 1 4]\n",
      " [5 5 4 5]]\n",
      "[8 9 1 4 5 5 4 5]\n"
     ]
    }
   ],
   "source": [
    "a = np.array([np.random.randint(0, 10, 4), np.random.randint(0, 10, 4)])\n",
    "print(a)\n",
    "print(a.flatten())"
   ]
  },
  {
   "cell_type": "markdown",
   "id": "d0081931",
   "metadata": {},
   "source": [
    "# Delete\n",
    "## row => axis = 0\n",
    "## column => axis = 1"
   ]
  },
  {
   "cell_type": "code",
   "execution_count": 41,
   "id": "ec923e2d",
   "metadata": {},
   "outputs": [
    {
     "name": "stdout",
     "output_type": "stream",
     "text": [
      "[[ 0  1  2  3]\n",
      " [ 4  5  6  7]\n",
      " [ 8  9 10 11]]\n",
      "[[ 1  2  3]\n",
      " [ 5  6  7]\n",
      " [ 9 10 11]]\n"
     ]
    }
   ],
   "source": [
    "a = np.arange(12).reshape(3, 4)\n",
    "print(a)\n",
    "a = np.delete(a, obj=0, axis=1)\n",
    "print(a)\n",
    "# multiple: print(np.delete(a, obj=[0, 1, 3], axis=1))"
   ]
  }
 ],
 "metadata": {
  "kernelspec": {
   "display_name": "Python 3 (ipykernel)",
   "language": "python",
   "name": "python3"
  },
  "language_info": {
   "codemirror_mode": {
    "name": "ipython",
    "version": 3
   },
   "file_extension": ".py",
   "mimetype": "text/x-python",
   "name": "python",
   "nbconvert_exporter": "python",
   "pygments_lexer": "ipython3",
   "version": "3.9.12"
  }
 },
 "nbformat": 4,
 "nbformat_minor": 5
}
