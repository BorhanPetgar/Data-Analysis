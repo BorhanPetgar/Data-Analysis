{
 "cells": [
  {
   "cell_type": "code",
   "execution_count": 2,
   "id": "23b12d17",
   "metadata": {},
   "outputs": [],
   "source": [
    "import pandas as pd\n",
    "import numpy as np\n",
    "import matplotlib.pyplot as plt"
   ]
  },
  {
   "cell_type": "code",
   "execution_count": 3,
   "id": "849ef352",
   "metadata": {
    "scrolled": false
   },
   "outputs": [
    {
     "name": "stdout",
     "output_type": "stream",
     "text": [
      "i      a\n",
      "ii     b\n",
      "iii    c\n",
      "dtype: object\n",
      "a\n"
     ]
    }
   ],
   "source": [
    "# series\n",
    "a = ['a', 'b', 'c']\n",
    "myvar = pd.Series(a, index=['i', 'ii', 'iii'])\n",
    "print(myvar) # column\n",
    "print(myvar[0]) # first element in column => a"
   ]
  },
  {
   "cell_type": "code",
   "execution_count": 4,
   "id": "fc45e055",
   "metadata": {},
   "outputs": [
    {
     "name": "stdout",
     "output_type": "stream",
     "text": [
      "Chandler    4.0\n",
      "Ross        4.0\n",
      "Joey        2.5\n",
      "Phoebe      2.0\n",
      "dtype: float64\n"
     ]
    }
   ],
   "source": [
    "dict = {'Chandler': 4, 'Ross': 4, 'Joey': 2.5, 'Phoebe':2}\n",
    "table = pd.Series(dict)\n",
    "print(table)"
   ]
  },
  {
   "cell_type": "code",
   "execution_count": 5,
   "id": "0f69d81f",
   "metadata": {},
   "outputs": [
    {
     "name": "stdout",
     "output_type": "stream",
     "text": [
      "      Name  Grade\n",
      "0  Chander      4\n",
      "1     Ross      3\n",
      "2     Joey      2\n"
     ]
    }
   ],
   "source": [
    "# Data Frame\n",
    "data = {'Name': ['Chander', 'Ross', 'Joey'], \n",
    "        'Grade': [4,3,2]}\n",
    "table = pd.DataFrame(data)\n",
    "print(table)"
   ]
  },
  {
   "cell_type": "code",
   "execution_count": 9,
   "id": "f0b1c0e7",
   "metadata": {
    "scrolled": true
   },
   "outputs": [
    {
     "name": "stdout",
     "output_type": "stream",
     "text": [
      "         Weather\n",
      "day 1    Drizzle\n",
      "day 2    Showery\n",
      "day 3     Cloudy\n",
      "day 4     Stormy\n",
      "day 5   Overcast\n",
      "day 6     Cloudy\n",
      "day 7      Snowy\n",
      "day 8      Rainy\n",
      "day 9      Snowy\n",
      "day 10   Drizzle\n",
      "day 11  Overcast\n",
      "day 12     Rainy\n",
      "day 13    Stormy\n",
      "day 14  Overcast\n"
     ]
    }
   ],
   "source": [
    "weather_str = 'Sunny/Clear.Showery.Cloudy.Overcast.Rainy.Drizzle.Snowy.Stormy'\n",
    "weather_list = weather_str.split('.')\n",
    "weather = np.random.choice(weather_list, np.random.randint(10,20))\n",
    "\n",
    "def indexes(num):\n",
    "    days = list()\n",
    "    for i in range(1, num + 1):\n",
    "        days.append('day ' + str(i))\n",
    "    return days\n",
    "\n",
    "df = pd.DataFrame(weather, index=indexes(weather.size), columns=['Weather'])\n",
    "print(df)\n"
   ]
  },
  {
   "cell_type": "code",
   "execution_count": 22,
   "id": "5a938df1",
   "metadata": {},
   "outputs": [
    {
     "name": "stdout",
     "output_type": "stream",
     "text": [
      "        name  score  attempts qualify\n",
      "a  Anastasia   12.5         1     yes\n",
      "b       Dima    9.0         3      no\n",
      "c  Katherine   16.5         2     yes\n"
     ]
    }
   ],
   "source": [
    "# exercise\n",
    "\n",
    "exam_data = {'name': ['Anastasia', 'Dima', 'Katherine', 'James', 'Emily', 'Michael', 'Matthew', 'Laura', 'Kevin', 'Jonas'], \n",
    "             'score': [12.5, 9, 16.5, np.nan, 9, 20, 14.5, np.nan, 8, 19], \n",
    "             'attempts': [1, 3, 2, 3, 2, 3, 1, 1, 2, 1], \n",
    "             'qualify': ['yes', 'no', 'yes', 'no', 'no', 'yes', 'yes', 'no', 'no', 'yes']}\n",
    "\n",
    "df = pd.DataFrame(exam_data, index=['a', 'b', 'c', 'd', 'e', 'f', 'g', 'h', 'i', 'j'])\n",
    "print(df.iloc[0:3])"
   ]
  }
 ],
 "metadata": {
  "kernelspec": {
   "display_name": "Python 3 (ipykernel)",
   "language": "python",
   "name": "python3"
  },
  "language_info": {
   "codemirror_mode": {
    "name": "ipython",
    "version": 3
   },
   "file_extension": ".py",
   "mimetype": "text/x-python",
   "name": "python",
   "nbconvert_exporter": "python",
   "pygments_lexer": "ipython3",
   "version": "3.9.12"
  }
 },
 "nbformat": 4,
 "nbformat_minor": 5
}
